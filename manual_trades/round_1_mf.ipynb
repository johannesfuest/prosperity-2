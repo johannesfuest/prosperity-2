{
 "cells": [
  {
   "cell_type": "code",
   "execution_count": 2,
   "metadata": {},
   "outputs": [],
   "source": [
    "import numpy as np\n",
    "from tqdm import tqdm\n",
    "import matplotlib.pyplot as plt"
   ]
  },
  {
   "cell_type": "code",
   "execution_count": 3,
   "metadata": {},
   "outputs": [],
   "source": [
    "def generate_reserve_prices(n):\n",
    "    reserve_prices = np.linspace(0, 1, 100)\n",
    "    normalized_reserve_prices = reserve_prices / reserve_prices.sum()\n",
    "    return (np.random.choice(reserve_prices, n, p=normalized_reserve_prices) * 100) + 900\n",
    "\n",
    "def simulate_auction(n, first_bid, second_bid):\n",
    "    reserve_prices = generate_reserve_prices(n)\n",
    "    n_first_bid_wins = (first_bid > reserve_prices).sum()\n",
    "    first_bid_spending = n_first_bid_wins * first_bid\n",
    "    reserve_prices_after_first_bid = reserve_prices[first_bid < reserve_prices]\n",
    "    n_second_bid_wins = (second_bid > reserve_prices_after_first_bid).sum()\n",
    "    second_bid_spending = n_second_bid_wins * second_bid\n",
    "    return ((n_first_bid_wins + n_second_bid_wins) * 1000) - (first_bid_spending + second_bid_spending)"
   ]
  },
  {
   "cell_type": "code",
   "execution_count": 4,
   "metadata": {},
   "outputs": [],
   "source": [
    "def find_optimal_bids(n, runs_per_combination=10):\n",
    "    max_profit = -1\n",
    "    optimal_bids = None\n",
    "    for first_bid in (np.arange(900, 1000, 1)):\n",
    "        for second_bid in np.arange(first_bid, 1000, 1):\n",
    "            for _ in range(runs_per_combination):\n",
    "                profit = simulate_auction(n, first_bid, second_bid)\n",
    "                if profit > max_profit:\n",
    "                    max_profit = profit\n",
    "                    optimal_bids = (first_bid, second_bid)\n",
    "    return optimal_bids, max_profit"
   ]
  },
  {
   "cell_type": "code",
   "execution_count": 5,
   "metadata": {},
   "outputs": [
    {
     "data": {
      "image/png": "[encoded data removed]",
      "text/plain": [
       "<Figure size 640x480 with 1 Axes>"
      ]
     },
     "metadata": {},
     "output_type": "display_data"
    }
   ],
   "source": [
    "prices = generate_reserve_prices(300000)\n",
    "#plot\n",
    "plt.hist(prices, bins=1000)\n",
    "plt.show()"
   ]
  },
  {
   "cell_type": "code",
   "execution_count": 6,
   "metadata": {},
   "outputs": [],
   "source": [
    "def generate_second_bids(n, n_sims):\n",
    "    second_prices = []\n",
    "    for i in tqdm(range(n)):\n",
    "        _, second_price = find_optimal_bids(n_sims)\n",
    "        second_prices.append(second_price)\n",
    "    second_prices = np.array(second_prices)\n",
    "    return second_prices\n",
    "        \n",
    "\n",
    "def simulate_auction_round_four(n, first_bid, second_bid, avg_second_bid = 978):\n",
    "    reserve_prices = generate_reserve_prices(n)\n",
    "    n_first_bid_wins = (first_bid > reserve_prices).sum()\n",
    "    first_bid_spending = n_first_bid_wins * first_bid\n",
    "    first_bid_profit = n_first_bid_wins * 1000 - first_bid_spending  \n",
    "    reserve_prices_after_first_bid = reserve_prices[first_bid < reserve_prices] # same setup in bid round 1\n",
    "    p = (1000 - avg_second_bid) / (1000 - second_bid) # this scaling factor p only depends on the constant round two avg. and our second bid, so is also constant in an auction\n",
    "    n_second_bid_wins = (second_bid > reserve_prices_after_first_bid).sum()\n",
    "    second_bid_spending = n_second_bid_wins * second_bid\n",
    "    if second_bid > avg_second_bid:\n",
    "        p = 1\n",
    "    second_bid_profit = (n_second_bid_wins * 1000 - second_bid_spending) * p # meaning we can scale our entire profit by this scaling factor p\n",
    "    total_profit = first_bid_profit + second_bid_profit\n",
    "    return total_profit"
   ]
  },
  {
   "cell_type": "code",
   "execution_count": 7,
   "metadata": {},
   "outputs": [
    {
     "name": "stderr",
     "output_type": "stream",
     "text": [
      "100%|██████████| 100/100 [01:38<00:00,  1.02it/s]\n"
     ]
    },
    {
     "name": "stdout",
     "output_type": "stream",
     "text": [
      "For price 975 : Optimal bids: (954, 980), Max profit: 209342\n"
     ]
    },
    {
     "name": "stderr",
     "output_type": "stream",
     "text": [
      "100%|██████████| 100/100 [01:43<00:00,  1.03s/it]\n"
     ]
    },
    {
     "name": "stdout",
     "output_type": "stream",
     "text": [
      "For price 976 : Optimal bids: (955, 978), Max profit: 208379\n"
     ]
    },
    {
     "name": "stderr",
     "output_type": "stream",
     "text": [
      "100%|██████████| 100/100 [01:43<00:00,  1.03s/it]\n"
     ]
    },
    {
     "name": "stdout",
     "output_type": "stream",
     "text": [
      "For price 977 : Optimal bids: (953, 979), Max profit: 209488\n"
     ]
    },
    {
     "name": "stderr",
     "output_type": "stream",
     "text": [
      "100%|██████████| 100/100 [01:45<00:00,  1.06s/it]\n"
     ]
    },
    {
     "name": "stdout",
     "output_type": "stream",
     "text": [
      "For price 978 : Optimal bids: (953, 978), Max profit: 207852.0\n"
     ]
    },
    {
     "name": "stderr",
     "output_type": "stream",
     "text": [
      "100%|██████████| 100/100 [01:45<00:00,  1.06s/it]\n"
     ]
    },
    {
     "name": "stdout",
     "output_type": "stream",
     "text": [
      "For price 979 : Optimal bids: (955, 981), Max profit: 209735\n"
     ]
    },
    {
     "name": "stderr",
     "output_type": "stream",
     "text": [
      "100%|██████████| 100/100 [01:42<00:00,  1.03s/it]\n"
     ]
    },
    {
     "name": "stdout",
     "output_type": "stream",
     "text": [
      "For price 980 : Optimal bids: (952, 980), Max profit: 208908.0\n"
     ]
    },
    {
     "name": "stderr",
     "output_type": "stream",
     "text": [
      "100%|██████████| 100/100 [01:42<00:00,  1.03s/it]\n"
     ]
    },
    {
     "name": "stdout",
     "output_type": "stream",
     "text": [
      "For price 981 : Optimal bids: (956, 982), Max profit: 208038\n"
     ]
    },
    {
     "name": "stderr",
     "output_type": "stream",
     "text": [
      "100%|██████████| 100/100 [01:43<00:00,  1.04s/it]\n"
     ]
    },
    {
     "name": "stdout",
     "output_type": "stream",
     "text": [
      "For price 982 : Optimal bids: (954, 982), Max profit: 206962.0\n"
     ]
    },
    {
     "name": "stderr",
     "output_type": "stream",
     "text": [
      "100%|██████████| 100/100 [01:45<00:00,  1.05s/it]\n"
     ]
    },
    {
     "name": "stdout",
     "output_type": "stream",
     "text": [
      "For price 983 : Optimal bids: (956, 983), Max profit: 206182.0\n"
     ]
    },
    {
     "name": "stderr",
     "output_type": "stream",
     "text": [
      "100%|██████████| 100/100 [01:43<00:00,  1.03s/it]"
     ]
    },
    {
     "name": "stdout",
     "output_type": "stream",
     "text": [
      "For price 984 : Optimal bids: (958, 984), Max profit: 203124.0\n"
     ]
    },
    {
     "name": "stderr",
     "output_type": "stream",
     "text": [
      "\n"
     ]
    }
   ],
   "source": [
    "def find_optimal_bids_round_four(n, avg_second_bid, runs_per_combination=1):\n",
    "    max_profit = -1\n",
    "    optimal_bids = None\n",
    "    for first_bid in tqdm(np.arange(900, 1000, 1)):\n",
    "        for second_bid in np.arange(first_bid, 1000, 1):\n",
    "            for _ in range(runs_per_combination):\n",
    "                profit = simulate_auction_round_four(n, first_bid, second_bid, avg_second_bid)\n",
    "                if profit > max_profit:\n",
    "                    max_profit = profit\n",
    "                    optimal_bids = (first_bid, second_bid)\n",
    "    return optimal_bids, max_profit\n",
    "\n",
    "n = 10000\n",
    "for i in range(975, 985):\n",
    "    avg_price_strats = {}\n",
    "    optimal_bids, max_profit = find_optimal_bids_round_four(n, i, runs_per_combination=20)\n",
    "    print(f\"For price {i} : Optimal bids: {optimal_bids}, Max profit: {max_profit}\")\n",
    "    avg_price_strats[i] = optimal_bids"
   ]
  },
  {
   "cell_type": "code",
   "execution_count": 8,
   "metadata": {},
   "outputs": [
    {
     "name": "stderr",
     "output_type": "stream",
     "text": [
      "100%|██████████| 100/100 [01:41<00:00,  1.01s/it]\n"
     ]
    },
    {
     "name": "stdout",
     "output_type": "stream",
     "text": [
      "For price 985 : Optimal bids: (958, 985), Max profit: 204261.0\n"
     ]
    },
    {
     "name": "stderr",
     "output_type": "stream",
     "text": [
      "100%|██████████| 100/100 [01:42<00:00,  1.02s/it]\n"
     ]
    },
    {
     "name": "stdout",
     "output_type": "stream",
     "text": [
      "For price 986 : Optimal bids: (957, 986), Max profit: 200454.0\n"
     ]
    },
    {
     "name": "stderr",
     "output_type": "stream",
     "text": [
      "100%|██████████| 100/100 [01:41<00:00,  1.01s/it]\n"
     ]
    },
    {
     "name": "stdout",
     "output_type": "stream",
     "text": [
      "For price 987 : Optimal bids: (956, 987), Max profit: 199190.0\n"
     ]
    },
    {
     "name": "stderr",
     "output_type": "stream",
     "text": [
      "100%|██████████| 100/100 [01:37<00:00,  1.03it/s]\n"
     ]
    },
    {
     "name": "stdout",
     "output_type": "stream",
     "text": [
      "For price 988 : Optimal bids: (957, 988), Max profit: 197841.0\n"
     ]
    },
    {
     "name": "stderr",
     "output_type": "stream",
     "text": [
      "100%|██████████| 100/100 [01:37<00:00,  1.02it/s]\n"
     ]
    },
    {
     "name": "stdout",
     "output_type": "stream",
     "text": [
      "For price 989 : Optimal bids: (958, 989), Max profit: 195749.0\n"
     ]
    },
    {
     "name": "stderr",
     "output_type": "stream",
     "text": [
      "100%|██████████| 100/100 [01:37<00:00,  1.02it/s]\n"
     ]
    },
    {
     "name": "stdout",
     "output_type": "stream",
     "text": [
      "For price 990 : Optimal bids: (961, 990), Max profit: 192433.0\n"
     ]
    },
    {
     "name": "stderr",
     "output_type": "stream",
     "text": [
      "100%|██████████| 100/100 [01:37<00:00,  1.02it/s]\n"
     ]
    },
    {
     "name": "stdout",
     "output_type": "stream",
     "text": [
      "For price 991 : Optimal bids: (961, 991), Max profit: 189276.0\n"
     ]
    },
    {
     "name": "stderr",
     "output_type": "stream",
     "text": [
      "100%|██████████| 100/100 [01:36<00:00,  1.03it/s]\n"
     ]
    },
    {
     "name": "stdout",
     "output_type": "stream",
     "text": [
      "For price 992 : Optimal bids: (961, 992), Max profit: 188240.0\n"
     ]
    },
    {
     "name": "stderr",
     "output_type": "stream",
     "text": [
      "100%|██████████| 100/100 [01:37<00:00,  1.03it/s]\n"
     ]
    },
    {
     "name": "stdout",
     "output_type": "stream",
     "text": [
      "For price 993 : Optimal bids: (961, 993), Max profit: 183403.0\n"
     ]
    },
    {
     "name": "stderr",
     "output_type": "stream",
     "text": [
      "100%|██████████| 100/100 [01:36<00:00,  1.03it/s]\n"
     ]
    },
    {
     "name": "stdout",
     "output_type": "stream",
     "text": [
      "For price 994 : Optimal bids: (964, 994), Max profit: 178860.0\n"
     ]
    },
    {
     "name": "stderr",
     "output_type": "stream",
     "text": [
      "100%|██████████| 100/100 [01:36<00:00,  1.03it/s]\n"
     ]
    },
    {
     "name": "stdout",
     "output_type": "stream",
     "text": [
      "For price 995 : Optimal bids: (964, 995), Max profit: 176157.0\n"
     ]
    },
    {
     "name": "stderr",
     "output_type": "stream",
     "text": [
      "100%|██████████| 100/100 [01:37<00:00,  1.03it/s]\n"
     ]
    },
    {
     "name": "stdout",
     "output_type": "stream",
     "text": [
      "For price 996 : Optimal bids: (964, 996), Max profit: 170468.0\n"
     ]
    },
    {
     "name": "stderr",
     "output_type": "stream",
     "text": [
      "100%|██████████| 100/100 [01:36<00:00,  1.04it/s]\n"
     ]
    },
    {
     "name": "stdout",
     "output_type": "stream",
     "text": [
      "For price 997 : Optimal bids: (961, 996), Max profit: 166812.0\n"
     ]
    },
    {
     "name": "stderr",
     "output_type": "stream",
     "text": [
      "100%|██████████| 100/100 [01:39<00:00,  1.01it/s]\n"
     ]
    },
    {
     "name": "stdout",
     "output_type": "stream",
     "text": [
      "For price 998 : Optimal bids: (965, 998), Max profit: 162644.0\n"
     ]
    },
    {
     "name": "stderr",
     "output_type": "stream",
     "text": [
      "100%|██████████| 100/100 [01:37<00:00,  1.02it/s]"
     ]
    },
    {
     "name": "stdout",
     "output_type": "stream",
     "text": [
      "For price 999 : Optimal bids: (965, 997), Max profit: 157836.0\n"
     ]
    },
    {
     "name": "stderr",
     "output_type": "stream",
     "text": [
      "\n"
     ]
    }
   ],
   "source": [
    "for i in range(985, 1000):\n",
    "    avg_price_strats = {}\n",
    "    optimal_bids, max_profit = find_optimal_bids_round_four(n, i, runs_per_combination=20)\n",
    "    print(f\"For price {i} : Optimal bids: {optimal_bids}, Max profit: {max_profit}\")\n",
    "    avg_price_strats[i] = optimal_bids"
   ]
  },
  {
   "cell_type": "code",
   "execution_count": null,
   "metadata": {},
   "outputs": [],
   "source": []
  }
 ],
 "metadata": {
  "kernelspec": {
   "display_name": "prosperity",
   "language": "python",
   "name": "python3"
  },
  "language_info": {
   "codemirror_mode": {
    "name": "ipython",
    "version": 3
   },
   "file_extension": ".py",
   "mimetype": "text/x-python",
   "name": "python",
   "nbconvert_exporter": "python",
   "pygments_lexer": "ipython3",
   "version": "3.12.2"
  },
  "orig_nbformat": 4,
  "vscode": {
   "interpreter": {
    "hash": "5927c161e0dfd1548b7483f9f60fcfb80a5ff11a2d47b9723e806797d025a268"
   }
  }
 },
 "nbformat": 4,
 "nbformat_minor": 2
}
