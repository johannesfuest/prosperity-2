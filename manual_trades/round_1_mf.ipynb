{
 "cells": [
  {
   "cell_type": "code",
   "execution_count": null,
   "metadata": {},
   "outputs": [],
   "source": [
    "import numpy as np\n",
    "from tqdm import tqdm\n",
    "import matplotlib.pyplot as plt"
   ]
  },
  {
   "cell_type": "code",
   "execution_count": null,
   "metadata": {},
   "outputs": [],
   "source": [
    "def generate_reserve_prices(n):\n",
    "    reserve_prices = np.linspace(0, 1, 100)\n",
    "    normalized_reserve_prices = reserve_prices / reserve_prices.sum()\n",
    "    return (np.random.choice(reserve_prices, n, p=normalized_reserve_prices) * 100) + 900\n",
    "\n",
    "\n",
    "def simulate_auction(n, first_bid, second_bid):\n",
    "    reserve_prices = generate_reserve_prices(n)\n",
    "    n_first_bid_wins = (first_bid > reserve_prices).sum()\n",
    "    first_bid_spending = n_first_bid_wins * first_bid\n",
    "    reserve_prices_after_first_bid = reserve_prices[first_bid < reserve_prices]\n",
    "    n_second_bid_wins = (second_bid > reserve_prices_after_first_bid).sum()\n",
    "    second_bid_spending = n_second_bid_wins * second_bid\n",
    "    return ((n_first_bid_wins + n_second_bid_wins) * 1000) - (first_bid_spending + second_bid_spending)"
   ]
  },
  {
   "cell_type": "code",
   "execution_count": 54,
   "metadata": {},
   "outputs": [
    {
     "name": "stderr",
     "output_type": "stream",
     "text": [
      "100%|██████████| 100/100 [1:36:26<00:00, 57.86s/it]"
     ]
    },
    {
     "name": "stdout",
     "output_type": "stream",
     "text": [
      "Optimal bids: (952, 978), Max profit: 2049448\n"
     ]
    },
    {
     "name": "stderr",
     "output_type": "stream",
     "text": [
      "\n"
     ]
    }
   ],
   "source": [
    "def find_optimal_bids(n, runs_per_combination=100):\n",
    "    max_profit = -1\n",
    "    optimal_bids = None\n",
    "    for first_bid in tqdm(np.arange(900, 1000, 1)):\n",
    "        for second_bid in np.arange(first_bid, 1000, 1):\n",
    "            for _ in range(runs_per_combination):\n",
    "                profit = simulate_auction(n, first_bid, second_bid)\n",
    "                if profit > max_profit:\n",
    "                    max_profit = profit\n",
    "                    optimal_bids = (first_bid, second_bid)\n",
    "    return optimal_bids, max_profit\n",
    "\n",
    "n = 100000\n",
    "optimal_bids, max_profit = find_optimal_bids(n)\n",
    "print(f\"Optimal bids: {optimal_bids}, Max profit: {max_profit}\")"
   ]
  },
  {
   "cell_type": "code",
   "execution_count": 46,
   "metadata": {},
   "outputs": [
    {
     "data": {
      "image/png": "[encoded data removed]",
      "text/plain": [
       "<Figure size 640x480 with 1 Axes>"
      ]
     },
     "metadata": {},
     "output_type": "display_data"
    }
   ],
   "source": [
    "prices = generate_reserve_prices(300000)\n",
    "#plot\n",
    "plt.hist(prices, bins=1000)\n",
    "plt.show()"
   ]
  },
  {
   "cell_type": "code",
   "execution_count": null,
   "metadata": {},
   "outputs": [],
   "source": []
  },
  {
   "cell_type": "code",
   "execution_count": null,
   "metadata": {},
   "outputs": [],
   "source": []
  }
 ],
 "metadata": {
  "kernelspec": {
   "display_name": "prosperity",
   "language": "python",
   "name": "python3"
  },
  "language_info": {
   "codemirror_mode": {
    "name": "ipython",
    "version": 3
   },
   "file_extension": ".py",
   "mimetype": "text/x-python",
   "name": "python",
   "nbconvert_exporter": "python",
   "pygments_lexer": "ipython3",
   "version": "3.12.2"
  },
  "orig_nbformat": 4,
  "vscode": {
   "interpreter": {
    "hash": "5927c161e0dfd1548b7483f9f60fcfb80a5ff11a2d47b9723e806797d025a268"
   }
  }
 },
 "nbformat": 4,
 "nbformat_minor": 2
}
