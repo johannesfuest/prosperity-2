{
 "cells": [
  {
   "cell_type": "code",
   "execution_count": 27,
   "metadata": {},
   "outputs": [
    {
     "name": "stdout",
     "output_type": "stream",
     "text": [
      "Highest profit is 113938.77760000015 with path ['Seashells', 'Pizza', 'Wasabi Root', 'Seashells', 'Pizza', 'Seashells']\n"
     ]
    }
   ],
   "source": [
    "import numpy as np\n",
    "\n",
    "# hard coded transition matrix:\n",
    "trade_matrix = np.array([[1.0, 0.48, 1.52, 0.71],[2.05, 1.0, 3.26, 1.56], [0.64, 0.3, 1, 0.46], [1.41, 0.61, 2.08, 1.0]])\n",
    "\n",
    "\n",
    "\n",
    "\n",
    "current_profit = 0.0\n",
    "best_path = (0,0,0,0,0)\n",
    "max_profit = 0.0\n",
    "for currency_2 in range(0,4):\n",
    "    for currency_3 in range(0,4):\n",
    "        for currency_4 in range(0,4):\n",
    "            for currency_5 in range(0,4):\n",
    "                current_profit = 2000000*trade_matrix[3][currency_2] * trade_matrix[currency_2][currency_3] \\\n",
    "                * trade_matrix[currency_3][currency_4] * trade_matrix[currency_4][currency_5] * trade_matrix[currency_5][3] - 2000000\n",
    "                if current_profit > max_profit:\n",
    "                    max_profit = current_profit\n",
    "                    best_path = (3, currency_2, currency_3, currency_4,currency_5, 3)\n",
    "\n",
    "currency_dict = {0: \"Pizza\", 1: \"Wasabi Root\", 2: \"Snowballs\", 3: \"Seashells\"}\n",
    "best_path = [currency_dict[i] for i in best_path]\n",
    "                    \n",
    "print(f\"Highest profit is {max_profit} with path {best_path}\")\n",
    "        \n"
   ]
  }
 ],
 "metadata": {
  "kernelspec": {
   "display_name": "venv",
   "language": "python",
   "name": "python3"
  },
  "language_info": {
   "codemirror_mode": {
    "name": "ipython",
    "version": 3
   },
   "file_extension": ".py",
   "mimetype": "text/x-python",
   "name": "python",
   "nbconvert_exporter": "python",
   "pygments_lexer": "ipython3",
   "version": "3.12.3"
  }
 },
 "nbformat": 4,
 "nbformat_minor": 2
}
