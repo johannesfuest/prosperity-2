{
 "cells": [
  {
   "cell_type": "code",
   "execution_count": null,
   "metadata": {},
   "outputs": [],
   "source": [
    "import numpy as np\n",
    "import matplotlib.pyplot as plt\n",
    "import random\n",
    "\n",
    "island_matrix = [[(24,2),(70,4),(41,3),(21,2),(60,4)],\n",
    "                 [(47,3),(82,5),(87,5),(80,5),(35,3)],\n",
    "                 [(73,4),(89,5),(100,8),(90,7),(17,2)],\n",
    "                 [(77,5),(83,5),(85,5),(79,5),(55,4)],\n",
    "                 [(12,2),(27,3),(52,4),(15,2),(30,3)]]\n",
    "\n",
    "def calculate_profit(exp_1, exp_2=None, exp_3=None, probabilities = 0.04 * np.ones(shape=(5,5))):\n",
    "    profit = 0\n",
    "    #expedition 1\n",
    "    profit += island_matrix[exp_1[0]][exp_1[1]][0]*7500/(island_matrix[exp_1[0]][exp_1[1]][0] + probabilities[exp_1[0]][exp_1[1]])\n",
    "    if exp_2 is not None:\n",
    "        profit -= 25000\n",
    "        profit += island_matrix[exp_2[0]][exp_2[1]][0]*7500/(island_matrix[exp_2[0]][exp_2[1]][0] + probabilities[exp_2[0]][exp_2[1]])\n",
    "    if exp_3 is not None:\n",
    "        profit -= 75000\n",
    "        profit += island_matrix[exp_3[0]][exp_3[1]][0]*7500/(island_matrix[exp_3[0]][exp_3[1]][0] + probabilities[exp_3[0]][exp_3[1]])\n",
    "    return profit\n",
    "\n",
    "#TODO: play with the probabilities"
   ]
  }
 ],
 "metadata": {
  "language_info": {
   "name": "python"
  }
 },
 "nbformat": 4,
 "nbformat_minor": 2
}
