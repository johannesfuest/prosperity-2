{
 "cells": [
  {
   "cell_type": "code",
   "execution_count": 415,
   "metadata": {},
   "outputs": [],
   "source": [
    "import pandas as pd\n",
    "import matplotlib.pyplot as plt\n",
    "\n",
    "\n",
    "TRADER_NAMES = ['Vinnie', 'Raj', 'Rhianna']\n",
    "\n",
    "TRADER = 'Rhianna' #Set to one of the names above\n",
    "PRODUCT = 'COCONUT' #Set to COCONUT or COCONUT_COUPON\n",
    "\n",
    "# Read in trades data with names and create one big df\n",
    "df1 = pd.read_csv('../../../data/round-5-island-data-bottle/trades_round_4_day_1_wn.csv', sep=';')\n",
    "df2 = pd.read_csv('../../../data/round-5-island-data-bottle/trades_round_4_day_2_wn.csv', sep=';')\n",
    "df2['timestamp'] = df2['timestamp'] + 1000000\n",
    "df3 = pd.read_csv('../../../data/round-5-island-data-bottle/trades_round_4_day_3_wn.csv', sep=';')\n",
    "df3['timestamp'] = df3['timestamp'] + 2000000\n",
    "df = pd.concat([df1, df2, df3])\n",
    "df_coconut = df.query('symbol==\"COCONUT\"')\n",
    "df_coconut_coupon = df.query('symbol==\"COCONUT_COUPON\"')\n",
    "\n",
    "# Read in prices data and create one big df\n",
    "df1 = pd.read_csv('../../../data/round-4-island-data-bottle/prices_round_4_day_1.csv', sep=';')\n",
    "df2 = pd.read_csv('../../../data/round-4-island-data-bottle/prices_round_4_day_2.csv', sep=';')\n",
    "df2['timestamp'] = df2['timestamp'] + 1000000\n",
    "df3 = pd.read_csv('../../../data/round-4-island-data-bottle/prices_round_4_day_3.csv', sep=';')\n",
    "df3['timestamp'] = df3['timestamp'] + 2000000\n",
    "prices = pd.concat([df1, df2, df3])\n",
    "prices_coconut = prices.query('product==\"COCONUT\"')\n",
    "prices_coconut_coupon = prices.query('product==\"COCONUT_COUPON\"')"
   ]
  },
  {
   "cell_type": "code",
   "execution_count": 416,
   "metadata": {},
   "outputs": [],
   "source": [
    "df_coconut_coupon_valentina = df_coconut_coupon.query('buyer==\"Valentina\" or seller==\"Valentina\"')\n",
    "df_coconut_valentina = df_coconut.query('buyer==\"Valentina\" or seller==\"Valentina\"')\n",
    "df_coconut_coupon_valentina_self = df_coconut_coupon_valentina.query('buyer==seller')\n",
    "df_coconut_valentina_self = df_coconut_valentina.query('buyer==seller')"
   ]
  },
  {
   "cell_type": "code",
   "execution_count": 417,
   "metadata": {},
   "outputs": [],
   "source": [
    "df_coconut_coupon_vinnie = df_coconut_coupon.query('buyer==\"Vinnie\" or seller==\"Vinnie\"')\n",
    "df_coconut_vinnie = df_coconut.query('buyer==\"Vinnie\" or seller==\"Vinnie\"')\n",
    "df_coconut_coupon_vinnie_self = df_coconut_coupon_vinnie.query('buyer==seller')\n",
    "df_coconut_vinnie_self = df_coconut_vinnie.query('buyer==seller')"
   ]
  },
  {
   "cell_type": "code",
   "execution_count": 418,
   "metadata": {},
   "outputs": [],
   "source": [
    "df_coconut_rhianna = df_coconut.query('buyer==\"Rhianna\" or seller==\"Rhianna\"')\n",
    "df_coconut_coupon_rhianna = df_coconut_coupon.query('buyer==\"Rhianna\" or seller==\"Rhianna\"')    \n",
    "df_coconut_rhianna_self = df_coconut_rhianna.query('buyer==seller')\n",
    "df_coconut_coupon_rhianna_self = df_coconut_coupon_rhianna.query('buyer==seller')"
   ]
  },
  {
   "cell_type": "code",
   "execution_count": 419,
   "metadata": {},
   "outputs": [],
   "source": [
    "df_coconut_coupon_raj = df_coconut_coupon.query('buyer==\"Raj\" or seller==\"Raj\"')\n",
    "df_coconut_raj = df_coconut.query('buyer==\"Raj\" or seller==\"Raj\"')\n",
    "df_coconut_coupon_raj_self = df_coconut_coupon_raj.query('buyer==seller')\n",
    "df_coconut_raj_self = df_coconut_raj.query('buyer==seller')"
   ]
  },
  {
   "cell_type": "code",
   "execution_count": 420,
   "metadata": {},
   "outputs": [],
   "source": [
    "# calculate profit for the trader\n",
    "def calculate_cashflow_per_transaction(row):\n",
    "    if row['buyer'] == TRADER and row['seller'] != TRADER:\n",
    "        return -row['quantity'] * row['price']\n",
    "    elif row['buyer'] != TRADER and row['seller'] == TRADER:\n",
    "        return row['quantity'] * row['price']\n",
    "    else:\n",
    "        return 0\n",
    "    \n",
    "def calculate_position_change(row):\n",
    "    if row['buyer'] == TRADER and row['seller'] != TRADER:\n",
    "        return row['quantity']\n",
    "    elif row['buyer'] != TRADER and row['seller'] == TRADER:\n",
    "        return -row['quantity']\n",
    "    else:\n",
    "        return 0\n",
    "    \n",
    "def calculate_total_profit_per_day(dataframe, price_dataframe, day=1):\n",
    "    if day == 1:\n",
    "        dataframe = dataframe.query('timestamp <= 1000000').copy()\n",
    "    elif day == 2:\n",
    "        dataframe = dataframe.query('timestamp <= 2000000 and timestamp > 1000000').copy()\n",
    "    else:\n",
    "        dataframe = dataframe.query('timestamp < 3000000 and timestamp > 2000000').copy()\n",
    "    dataframe['cashflows'] = dataframe.apply(calculate_cashflow_per_transaction, axis=1)\n",
    "    dataframe['position_change'] = dataframe.apply(calculate_position_change, axis=1)\n",
    "    end_of_period_position = dataframe['position_change'].sum()\n",
    "    end_of_period_mid_price = price_dataframe.query('timestamp==@day*1000000')['mid_price'].values[0] if day <= 2 else price_dataframe.iloc[-1]['mid_price']\n",
    "    print(f'End of period mid price on day {day}: {end_of_period_mid_price}')\n",
    "    end_of_period_cash = end_of_period_position * end_of_period_mid_price\n",
    "    return end_of_period_cash + dataframe['cashflows'].sum()\n",
    "\n",
    "def calculate_total_profit(dataframe, price_dataframe):\n",
    "    profit_1 = calculate_total_profit_per_day(dataframe, price_dataframe, 1)\n",
    "    profit_2 = calculate_total_profit_per_day(dataframe, price_dataframe, 2)\n",
    "    profit_3 = calculate_total_profit_per_day(dataframe, price_dataframe, 3)\n",
    "    return profit_1 + profit_2 + profit_3"
   ]
  },
  {
   "cell_type": "code",
   "execution_count": 421,
   "metadata": {},
   "outputs": [
    {
     "name": "stdout",
     "output_type": "stream",
     "text": [
      "End of period mid price on day 1: 10135.5\n",
      "End of period mid price on day 2: 9991.0\n",
      "End of period mid price on day 3: 9882.5\n",
      "Vinnies total coconut profit: -2522.0\n",
      "End of period mid price on day 1: 682.5\n",
      "End of period mid price on day 2: 620.0\n",
      "End of period mid price on day 3: 575.5\n",
      "Vinnies total coconut coupon profit: 206573.0\n"
     ]
    }
   ],
   "source": [
    "TRADER = 'Vinnie'\n",
    "total_profit_coconut = calculate_total_profit(df_coconut_vinnie, prices_coconut)\n",
    "print(f'{TRADER}s total coconut profit: {total_profit_coconut}')\n",
    "\n",
    "total_profit_coconut_coupon = calculate_total_profit(df_coconut_coupon_vinnie, prices_coconut_coupon)\n",
    "print(f'{TRADER}s total coconut coupon profit: {total_profit_coconut_coupon}')"
   ]
  },
  {
   "cell_type": "code",
   "execution_count": 422,
   "metadata": {},
   "outputs": [
    {
     "name": "stdout",
     "output_type": "stream",
     "text": [
      "End of period mid price on day 1: 10135.5\n",
      "End of period mid price on day 2: 9991.0\n",
      "End of period mid price on day 3: 9882.5\n",
      "Valentinas total coconut profit: 0.0\n",
      "End of period mid price on day 1: 682.5\n",
      "End of period mid price on day 2: 620.0\n",
      "End of period mid price on day 3: 575.5\n",
      "Valentinas total coconut coupon profit: -280459.5\n"
     ]
    }
   ],
   "source": [
    "TRADER = 'Valentina'\n",
    "total_profit_coconuts = calculate_total_profit(df_coconut_valentina, prices_coconut)\n",
    "print(f'{TRADER}s total coconut profit: {total_profit_coconuts}')\n",
    "\n",
    "total_profit_coconut_coupons = calculate_total_profit(df_coconut_coupon_valentina, prices_coconut_coupon)\n",
    "print(f'{TRADER}s total coconut coupon profit: {total_profit_coconut_coupons}')"
   ]
  },
  {
   "cell_type": "code",
   "execution_count": 423,
   "metadata": {},
   "outputs": [
    {
     "name": "stdout",
     "output_type": "stream",
     "text": [
      "End of period mid price on day 1: 10135.5\n",
      "End of period mid price on day 2: 9991.0\n",
      "End of period mid price on day 3: 9882.5\n",
      "Rhiannas total coconut profit: 472.5\n",
      "End of period mid price on day 1: 682.5\n",
      "End of period mid price on day 2: 620.0\n",
      "End of period mid price on day 3: 575.5\n",
      "Rhiannas total coconut coupon profit: 45952.5\n"
     ]
    }
   ],
   "source": [
    "TRADER = 'Rhianna'\n",
    "total_profit_coconuts = calculate_total_profit(df_coconut_rhianna, prices_coconut)\n",
    "print(f'{TRADER}s total coconut profit: {total_profit_coconuts}')\n",
    "\n",
    "total_profit_coconut_coupons = calculate_total_profit(df_coconut_coupon_rhianna, prices_coconut_coupon)\n",
    "print(f'{TRADER}s total coconut coupon profit: {total_profit_coconut_coupons}')"
   ]
  },
  {
   "cell_type": "code",
   "execution_count": 424,
   "metadata": {},
   "outputs": [
    {
     "name": "stdout",
     "output_type": "stream",
     "text": [
      "End of period mid price on day 1: 10135.5\n",
      "End of period mid price on day 2: 9991.0\n",
      "End of period mid price on day 3: 9882.5\n",
      "Rajs total coconut profit: 2049.5\n",
      "End of period mid price on day 1: 682.5\n",
      "End of period mid price on day 2: 620.0\n",
      "End of period mid price on day 3: 575.5\n",
      "Rajs total coconut coupon profit: 0.0\n"
     ]
    }
   ],
   "source": [
    "TRADER = 'Raj'\n",
    "total_profit_coconuts = calculate_total_profit(df_coconut_raj, prices_coconut)\n",
    "print(f'{TRADER}s total coconut profit: {total_profit_coconuts}')\n",
    "\n",
    "total_profit_coconut_coupons = calculate_total_profit(df_coconut_coupon_raj, prices_coconut_coupon)\n",
    "print(f'{TRADER}s total coconut coupon profit: {total_profit_coconut_coupons}')\n"
   ]
  },
  {
   "cell_type": "code",
   "execution_count": 425,
   "metadata": {},
   "outputs": [
    {
     "data": {
      "text/plain": [
       "[<matplotlib.lines.Line2D at 0x174d24950>]"
      ]
     },
     "execution_count": 425,
     "metadata": {},
     "output_type": "execute_result"
    },
    {
     "data": {
      "image/png": "[encoded data removed]",
      "text/plain": [
       "<Figure size 640x480 with 1 Axes>"
      ]
     },
     "metadata": {},
     "output_type": "display_data"
    }
   ],
   "source": [
    "#plot coconut coupon mid prices\n",
    "plt.plot(prices_coconut_coupon['timestamp'], prices_coconut_coupon['mid_price'])"
   ]
  },
  {
   "cell_type": "code",
   "execution_count": null,
   "metadata": {},
   "outputs": [],
   "source": [
    "return_estimates = {\n",
    "    \"refrigerators\": 1.02,\n",
    "      #bubble potential\n",
    "}"
   ]
  }
 ],
 "metadata": {
  "kernelspec": {
   "display_name": "prosperity",
   "language": "python",
   "name": "python3"
  },
  "language_info": {
   "codemirror_mode": {
    "name": "ipython",
    "version": 3
   },
   "file_extension": ".py",
   "mimetype": "text/x-python",
   "name": "python",
   "nbconvert_exporter": "python",
   "pygments_lexer": "ipython3",
   "version": "3.12.2"
  },
  "vscode": {
   "interpreter": {
    "hash": "5927c161e0dfd1548b7483f9f60fcfb80a5ff11a2d47b9723e806797d025a268"
   }
  }
 },
 "nbformat": 4,
 "nbformat_minor": 2
}
