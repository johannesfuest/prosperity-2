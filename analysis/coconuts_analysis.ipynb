{
 "cells": [
  {
   "cell_type": "code",
   "execution_count": null,
   "metadata": {},
   "outputs": [],
   "source": [
    "import pandas as pd\n",
    "import matplotlib.pyplot as plt\n",
    "import numpy as np\n",
    "\n",
    "\n",
    "prices_1 = pd.read_csv('../data/round-4-island-data-bottle/prices_round_4_day_1.csv', sep=';')\n",
    "prices_2 = pd.read_csv('../data/round-4-island-data-bottle/prices_round_4_day_2.csv', sep=';')\n",
    "prices_3 = pd.read_csv('../data/round-4-island-data-bottle/prices_round_4_day_3.csv', sep=';')\n",
    "\n",
    "df_prices = pd.concat([prices_1, prices_2, prices_3]).reset_index(drop=True)\n",
    "df_prices['timestamp'] = df_prices['timestamp'] + (df_prices['day'] - 1) * 1000000\n",
    "df_prices = df_prices.drop(columns=['day', 'profit_and_loss'])\n",
    "df_coup_prices = df_prices[df_prices['product'] == 'COCONUT_COUPON'].reset_index(drop=True).copy()\n",
    "df_nut_prices = df_prices[df_prices['product'] == 'COCONUT'].reset_index(drop=True).copy()\n",
    "premium = 637.63\n",
    "df_coup_prices['mid_price'] = df_coup_prices['mid_price'] - premium\n",
    "df_nut_prices['mid_price'] = df_nut_prices['mid_price'] - 10000"
   ]
  },
  {
   "cell_type": "code",
   "execution_count": null,
   "metadata": {},
   "outputs": [],
   "source": [
    "df_coup_prices"
   ]
  },
  {
   "cell_type": "code",
   "execution_count": null,
   "metadata": {},
   "outputs": [],
   "source": [
    "# plot both prices over time\n",
    "plt.figure(figsize=(10, 6))\n",
    "plt.plot(df_coup_prices['timestamp'], df_coup_prices['mid_price'], label='Coconut Coupon')\n",
    "plt.plot(df_nut_prices['timestamp'], df_nut_prices['mid_price'], label='Coconut')\n",
    "plt.xlabel('Timestamp')\n",
    "plt.ylabel('Price')\n",
    "plt.legend()\n",
    "plt.show()"
   ]
  },
  {
   "cell_type": "code",
   "execution_count": null,
   "metadata": {},
   "outputs": [],
   "source": [
    "#plot difference between coupon and nut price over time\n",
    "df_diff = df_nut_prices.copy()\n",
    "df_diff['diff'] = df_nut_prices['mid_price'] - df_coup_prices['mid_price']\n",
    "plt.figure(figsize=(10, 6))\n",
    "plt.plot(df_diff['timestamp'], df_diff['diff'])\n",
    "plt.xlabel('Time')\n",
    "plt.ylabel('Nut - Price')\n",
    "plt.show()\n"
   ]
  },
  {
   "cell_type": "code",
   "execution_count": null,
   "metadata": {},
   "outputs": [],
   "source": [
    "#plot changes in the difference over time\n",
    "df_diff['diff_change'] = df_diff['diff'].diff()\n",
    "plt.figure(figsize=(10, 6))\n",
    "plt.plot(df_diff['timestamp'], df_diff['diff_change'])\n",
    "plt.xlabel('Time')\n",
    "plt.ylabel('Change in Nut - Price')\n",
    "plt.show()\n",
    "\n",
    "\n",
    "#plot a histogram of the changes and a normal distrithe same mean and stdbution with \n",
    "plt.figure(figsize=(10, 6))\n",
    "plt.hist(df_diff['diff_change'], bins=100, density=True)\n",
    "mean = df_diff['diff_change'].mean()\n",
    "std = df_diff['diff_change'].std()\n",
    "x = np.linspace(-5, 5, 100)\n",
    "y = 1/(std * np.sqrt(2 * np.pi)) * np.exp(- (x - mean)**2 / (2 * std**2))\n",
    "plt.plot(x, y, 'r')\n",
    "plt.plot(x, y, 'r')\n",
    "plt.xlabel('Change in diff t+1 - diff t')\n",
    "plt.ylabel('Frequency')\n",
    "plt.show()\n",
    "\n",
    "# test for normality\n",
    "from scipy.stats import shapiro\n",
    "stat, p = shapiro(df_diff['diff_change'].dropna())\n",
    "print('Statistics=%.3f, p=%.3f' % (stat, p))\n",
    "#issue: since prices are integers, the changes are integers as well, so the normality test is not valid\n",
    "# They might still be normally distributed with rounding, but we cannot test it with this test"
   ]
  },
  {
   "cell_type": "code",
   "execution_count": null,
   "metadata": {},
   "outputs": [],
   "source": [
    "#plot a scatter of the difference in price and the price of the nut\n",
    "plt.figure(figsize=(10, 6))\n",
    "plt.title('Scatter of difference in price and price of nut')\n",
    "plt.scatter(df_diff['mid_price'], df_diff['diff'], s=0.1)\n",
    "plt.show()\n",
    "\n",
    "#plot scatter of difference in difference and price of nut\n",
    "plt.figure(figsize=(10, 6))\n",
    "plt.title('Scatter of difference in difference and price of nut')\n",
    "plt.scatter(df_diff['mid_price'], df_diff['diff_change'], s=0.1)\n",
    "plt.show()\n"
   ]
  },
  {
   "cell_type": "code",
   "execution_count": null,
   "metadata": {},
   "outputs": [],
   "source": [
    "from statsmodels.tsa.stattools import adfuller\n",
    "#check if data is stationary\n",
    "result = adfuller(df_diff['diff'].dropna())\n",
    "print('ADF Statistic: %f' % result[0])\n",
    "print('p-value: %f' % result[1])\n",
    "\n",
    "#check if differenced data is stationary\n",
    "result = adfuller(df_diff['diff_change'].dropna())\n",
    "print('ADF Statistic: %f' % result[0])\n",
    "print('p-value: %f' % result[1])\n",
    "print('Critical Values:')\n",
    "for key, value in result[4].items():\n",
    "    print('\\t%s: %.3f' % (key, value))\n",
    "# difference itself is not stationary but differenced data is stationary "
   ]
  },
  {
   "cell_type": "code",
   "execution_count": null,
   "metadata": {},
   "outputs": [],
   "source": [
    "from statsmodels.tsa.stattools import adfuller, acf, pacf\n",
    "from statsmodels.tsa.arima.model import ARIMA\n",
    "from statsmodels.graphics.tsaplots import plot_acf, plot_pacf\n",
    "#plot acf and pacf\n",
    "plt.figure(figsize=(10, 6))\n",
    "plot_acf(df_diff['diff_change'].dropna(), lags=10, zero=False)\n",
    "plt.show()\n",
    "\n",
    "plt.figure(figsize=(10, 6))\n",
    "plot_pacf(df_diff['diff_change'].dropna(), lags=10, zero=False)\n",
    "plt.show()"
   ]
  },
  {
   "cell_type": "code",
   "execution_count": null,
   "metadata": {},
   "outputs": [],
   "source": [
    "# fit ARIMA model with d = 1, p = 1, q = 1\n",
    "model = ARIMA(df_diff['diff'].dropna(), order=(1, 1, 1))\n",
    "model_fit = model.fit()\n",
    "print(model_fit.summary())\n"
   ]
  },
  {
   "cell_type": "code",
   "execution_count": null,
   "metadata": {},
   "outputs": [],
   "source": [
    "#plot residuals of model\n",
    "plt.figure(figsize=(10, 6))\n",
    "plt.plot(model_fit.resid)\n",
    "plt.show()\n"
   ]
  },
  {
   "cell_type": "code",
   "execution_count": null,
   "metadata": {},
   "outputs": [],
   "source": [
    "#plot model predictions against actual data\n",
    "plt.figure(figsize=(100, 6))\n",
    "plt.plot(df_diff['timestamp'][0:1000], df_diff['diff'][0:1000], label='Actual')\n",
    "plt.plot(df_diff['timestamp'][0:1000], model_fit.fittedvalues[0:1000], label='Predicted')\n",
    "plt.legend()\n",
    "plt.show()\n",
    "\n",
    "# The model seems to only be able to predict a tiny amount with the rest just being noise. It is not a good model."
   ]
  },
  {
   "cell_type": "code",
   "execution_count": null,
   "metadata": {},
   "outputs": [],
   "source": [
    "#test if diff was already white noise using Ljung-Box test\n",
    "from statsmodels.stats.diagnostic import acorr_ljungbox\n",
    "result = acorr_ljungbox(df_diff['diff_change'].dropna(), lags=10)\n",
    "print(result)\n",
    "# Looks like the data was not white noise\n",
    "\n",
    "#test if residuals of arima model are white noise\n",
    "result = acorr_ljungbox(model_fit.resid, lags=10)\n",
    "print(result)\n",
    "#looks like the residuals are white noise"
   ]
  },
  {
   "cell_type": "code",
   "execution_count": null,
   "metadata": {},
   "outputs": [],
   "source": [
    "#other idea: plot abs deviation of cocnut price against difference in price\n",
    "plt.figure(figsize=(10, 6))\n",
    "plt.scatter(np.abs(df_diff['mid_price']), np.abs(df_diff['diff']), s=0.1)\n",
    "#plot regression line\n",
    "from sklearn.linear_model import LinearRegression\n",
    "X = np.abs(df_diff['mid_price']).values.reshape(-1, 1)\n",
    "y = np.abs(df_diff['diff']).values\n",
    "reg = LinearRegression().fit(X, y)\n",
    "plt.plot(X, reg.predict(X), 'r')\n",
    "plt.xlabel('Absolute price of coconut')\n",
    "plt.ylabel('Difference in price')\n",
    "plt.show()\n",
    "# Trading idea: -> if the price of the coconut is high, the difference in price is also high. We can model this\n",
    "# and use it to predict the difference in price. \n",
    "\n",
    "#Need to check whether linear regression is predictive using a few past diffs/price values and trade on that"
   ]
  },
  {
   "cell_type": "code",
   "execution_count": null,
   "metadata": {},
   "outputs": [],
   "source": [
    "from scipy.optimize import brentq\n",
    "from scipy.stats import norm\n",
    "\n",
    "# Black scholes\n",
    "def black_scholes(S, K, T, r, sigma, option_type='call'):\n",
    "    d1 = (np.log(S/K) + (r + 0.5 * sigma**2) * T) / (sigma * np.sqrt(T))\n",
    "    d2 = d1 - sigma * np.sqrt(T)\n",
    "    if option_type == 'call':\n",
    "        return S * norm.cdf(d1) - K * np.exp(-r * T) * norm.cdf(d2)\n",
    "    else:\n",
    "        return K * np.exp(-r * T) * norm.cdf(-d2) - S * norm.cdf(-d1)\n",
    "    \n",
    "\n",
    "def get_underlying_price_from_bs(option_price, K, t, r, sigma=0.19226514699995814, option_type='call'):\n",
    "    def f(S):\n",
    "        return black_scholes(S, K, t, r, sigma, option_type) - option_price\n",
    "    return brentq(f, 0.01, 1000)"
   ]
  },
  {
   "cell_type": "code",
   "execution_count": null,
   "metadata": {},
   "outputs": [],
   "source": [
    "\n",
    "def binary_search_vol(market_price, S, K, T, r, tolerance=1e-5):\n",
    "    sigma_low = 0.001\n",
    "    sigma_high = 1.0\n",
    "    for i in range(100):\n",
    "        sigma_mid = (sigma_low + sigma_high) / 2\n",
    "        price_mid = black_scholes(S, K, T, r, sigma_mid)\n",
    "        if price_mid > market_price:\n",
    "            sigma_high = sigma_mid\n",
    "        else:\n",
    "            sigma_low = sigma_mid\n",
    "            \n",
    "        if abs(price_mid - market_price) < tolerance:\n",
    "            return sigma_mid\n",
    "    \n",
    "    return (sigma_low + sigma_high) / 2"
   ]
  },
  {
   "cell_type": "code",
   "execution_count": null,
   "metadata": {},
   "outputs": [],
   "source": [
    "# Calculate implied volatility\n",
    "from scipy.stats import norm\n",
    "# join coconut and coupon prices\n",
    "coup_prices = df_coup_prices['mid_price'].values + premium\n",
    "coconut_prices = df_nut_prices['mid_price'].values + 10000\n",
    "K = 10000\n",
    "T = 250 / 365\n",
    "r = 0\n",
    "implied_vol = []\n",
    "for i in range(len(coup_prices)):\n",
    "    price = coup_prices[i]\n",
    "    S = coconut_prices[i]\n",
    "    sigma = binary_search_vol(price, S, K, T, r)\n",
    "    implied_vol.append(sigma)\n",
    "print(implied_vol)\n",
    "print(max(implied_vol))\n",
    "print(min(implied_vol))"
   ]
  },
  {
   "cell_type": "code",
   "execution_count": null,
   "metadata": {},
   "outputs": [],
   "source": [
    "# get black scholes price for each row\n",
    "bs_prices = []\n",
    "for i in range(len(coup_prices)):\n",
    "    S = coconut_prices[i]\n",
    "    K = 10000\n",
    "    T = 250 / 365\n",
    "    r = 0\n",
    "    sigma = implied_vol[i]\n",
    "    price = black_scholes(S, K, T, r, sigma)\n",
    "    bs_prices.append(price)"
   ]
  },
  {
   "cell_type": "code",
   "execution_count": null,
   "metadata": {},
   "outputs": [],
   "source": [
    "# plot implied volatility over time. Seems mean reverting. \n",
    "# Strategy idea: just use mean vol to price the options and trade on that\n",
    "plt.figure(figsize=(10, 6))\n",
    "plt.plot(df_coup_prices['timestamp'], implied_vol)\n",
    "plt.xlabel('Timestamp')\n",
    "plt.ylabel('Implied Volatility')\n",
    "plt.show()"
   ]
  },
  {
   "cell_type": "code",
   "execution_count": null,
   "metadata": {},
   "outputs": [],
   "source": [
    "# sanity check: black scholes prices are basically same as the actual prices\n",
    "print(min(coup_prices - bs_prices))\n",
    "print(max(coup_prices - bs_prices))"
   ]
  },
  {
   "cell_type": "code",
   "execution_count": null,
   "metadata": {},
   "outputs": [],
   "source": [
    "np.mean(implied_vol)"
   ]
  },
  {
   "cell_type": "code",
   "execution_count": null,
   "metadata": {},
   "outputs": [],
   "source": []
  }
 ],
 "metadata": {
  "kernelspec": {
   "display_name": "prosperity",
   "language": "python",
   "name": "python3"
  },
  "language_info": {
   "codemirror_mode": {
    "name": "ipython",
    "version": 3
   },
   "file_extension": ".py",
   "mimetype": "text/x-python",
   "name": "python",
   "nbconvert_exporter": "python",
   "pygments_lexer": "ipython3",
   "version": "3.12.2"
  },
  "vscode": {
   "interpreter": {
    "hash": "5927c161e0dfd1548b7483f9f60fcfb80a5ff11a2d47b9723e806797d025a268"
   }
  }
 },
 "nbformat": 4,
 "nbformat_minor": 2
}
